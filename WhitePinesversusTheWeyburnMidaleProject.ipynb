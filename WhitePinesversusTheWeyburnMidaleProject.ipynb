{
 "cells": [
  {
   "cell_type": "code",
   "execution_count": 1,
   "metadata": {},
   "outputs": [],
   "source": [
    "import random \n",
    "import numpy as np\n",
    "import matplotlib.pyplot as plt\n",
    "import seaborn as sns"
   ]
  },
  {
   "cell_type": "markdown",
   "metadata": {},
   "source": [
    "# White Pines versus The Weyburn - Midale Project\n",
    "\n",
    "### An analysis on the sequestration of carbon dioxide "
   ]
  },
  {
   "cell_type": "markdown",
   "metadata": {},
   "source": [
    "## Abstract\n",
    "\n",
    "Burning fossil fuels such as coal, natural gas, and oil has been the primary source of energy production since the late 1800s. The burning of these resources lead to an economic boom in the United States, but at the cost of the environment. The products of the combustion of hydrocarbons and coal in air are water (steam), carbon dioxide, carbon monoxide, and energy. These gases are responsible for trapping heat in our atmosphere, raising the overall temperature of the globe, and are referred to as greenhouse gases. The change in temperature of the atmosphere has devastating effects, such as the melting of the polar ice caps and a rise in the sea level. \n",
    "\n",
    "Carbon dioxide, $CO_{2}$, is the most abundant greenhouse gas in the Earth's atmosphere **[1]**. In an effort to combat climate change, carbon dioxide is being sequestered and stored in the oceans, spent oil deposits, and trees. The Weyburn-Midale Project in Saskatchewan, Canada has been injecting captured $CO_{2}$ into the Weyburn and Midale oil fields to enhance oil production, as well as store the $CO_{2}$ underground. The project in total is projected to cost $1.1 billion dollars and store 40 million tons of carbon dioxide underground **[2]**. The purpose of this project is to explore sequestering carbon dioxide in white pine trees in comparison to the Weyburn-Midale Project, and determine which method would be more cost efficient. To determine the amount of carbon dioxide sequestered in the trees, the following equation will be used: \n",
    "\n",
    "$$CO_{2} = 0.3987D^{2}H .[3]$$"
   ]
  },
  {
   "cell_type": "markdown",
   "metadata": {},
   "source": [
    "## The Weyburn - Midale Project \n",
    "\n",
    "The Weyburn-Midale Project in Saskatchewan, Canada has been injecting captured $CO_{2}$ into the Weyburn and Midale oil fields to enhance oil production, as well as store the $CO_{2}$ underground. The project is projected to cost a hefty $1.1 billion dollars, and store 40 million tons of carbon dioxide. This cost is not only from the operation of the equiptment, and the sequestering of the carbon dioxide. This high price point comes from the research that has gone into these fields and the effects of long term storage of the gas underground in that location. \n",
    "\n",
    "The operation on average sequesters 2 million tons of carbon dioxide a year **[4]**. The estimated maximum storage of the fields is 40 million tons, so this project should be able to **store 40 million tons in about 20 years**. With this economic and carbon dioxide data, the cost per year and cost per ton can be calculated. "
   ]
  },
  {
   "cell_type": "code",
   "execution_count": 2,
   "metadata": {},
   "outputs": [
    {
     "name": "stdout",
     "output_type": "stream",
     "text": [
      "The cost per year of the project is $55000000/year.\n",
      "The cost per ton of carbon dioxide is $27.50/ton.\n"
     ]
    }
   ],
   "source": [
    "weyburn_total_cost = 1100000000\n",
    "weyburn_time_years = 20\n",
    "weyburn_tons_co2 = 40000000\n",
    "\n",
    "weyburn_cost_year = weyburn_total_cost/weyburn_time_years\n",
    "weyburn_cost_ton = weyburn_total_cost/weyburn_tons_co2\n",
    "\n",
    "print('The cost per year of the project is ${:.0f}/year.'.format(weyburn_cost_year))\n",
    "print('The cost per ton of carbon dioxide is ${:.2f}/ton.'.format(weyburn_cost_ton))"
   ]
  },
  {
   "cell_type": "markdown",
   "metadata": {},
   "source": [
    "# White Pines\n",
    "\n",
    "Trees are 50% carbon by weight. The main source of carbon for a tree is not from the soil, but from the air. Plants produce energy through photosynthesis.\n",
    "\n",
    "$$6H_{2}O + 6CO_{2} + energy \\rightarrow C_{6}H_{12}O_{6} + 6O_{2}$$.\n",
    "\n",
    "The sugar, $C_{6}H_{12}O_{6}$, is used as a source of food for the plant, and is converted into plant matter, such as the wood in trees. This is how carbon dioxide is stored in trees. To determine how much carbon dioxide is stored in a tree (in pounds), the following equation can be used: \n",
    "\n",
    "$$CO_{2} = 0.3987D^{2}H$$\n",
    "\n",
    "where D is the diameter of the tree in inches, and H is the height of the tree in feet. This equation shows that the amount of carbon dioxide sequestered in a tree is directly related to its height and a direct square relationship to its diameter. In other words, the amount of carbon dioxide sequestered in a tree is dependent on the volume of the tree. \n",
    "\n",
    "White pines are great carbon sequesters, as they grow up to 150 feet and 40 inches in diameter, which is why they are being analyzed to compare to the Weyburn-Midale project. For this analysis, a 1 $km^{2}$ plot of land in upstate New York will be used to plant a plot of white pine trees. Upstate New York is an ideal place to plant these trees, as there is adequate hours of sunlight, far from dense urban areas, and appropriate temperatures **[5]**. "
   ]
  },
  {
   "cell_type": "markdown",
   "metadata": {},
   "source": [
    "### Planting the trees / Data\n",
    "\n",
    "The trees must be 6 feet away from each other to grow properly. This allows **324 white pines to be planted** in the 1 $km^{2}$ plot. Unfortunately, there is little to no data for white pines, besides growth rates at different age periods. The growth rate between 1-10 years is extremely variable, but the growth rate between 10-15 years and 50+ years is relatively constant and cosistent between trees. The chart below contains data on the two time periods of the trees' life that will be analyzed.\n",
    "\n",
    "|Age (yrs)|Starting Height (ft)*|Growth Rate (ft/yr)*|\n",
    "|:--------|:---------:|------------------:|\n",
    "|10|5-15|1-3**|\n",
    "|50|55-115|0.98| \n",
    "\n",
    "- *data was obtained from reference 6\n",
    "- **this growth rate is only for the next 5 years of the tree's life\n",
    "\n",
    "Using this data, 324 different starting heights and growth rates were generated using the following code **[7]**:"
   ]
  },
  {
   "cell_type": "code",
   "execution_count": 3,
   "metadata": {},
   "outputs": [],
   "source": [
    "#Starting heights of the trees in the plot at 10 years old\n",
    "def Rand(start, end, num): \n",
    "    res = [] \n",
    "  \n",
    "    for j in range(num): \n",
    "        res.append(random.randint(start, end)) \n",
    "  \n",
    "    return res \n",
    "num = 324\n",
    "start = 5\n",
    "end = 15\n",
    "start_heights = Rand(start, end, num)"
   ]
  },
  {
   "cell_type": "code",
   "execution_count": 4,
   "metadata": {},
   "outputs": [],
   "source": [
    "#Growth rates (ft/yr) of the trees in the plot between 10 and 15 yrs old\n",
    "def Rand(start, end, num): \n",
    "    res = [] \n",
    "  \n",
    "    for j in range(num): \n",
    "        res.append(random.randint(start, end)) \n",
    "  \n",
    "    return res \n",
    "num = 324\n",
    "start = 1\n",
    "end = 3\n",
    "growth_rates = Rand(start, end, num)"
   ]
  },
  {
   "cell_type": "markdown",
   "metadata": {},
   "source": [
    "\n",
    "These starting heights and growth rates were then put into arrays labeled start_heights and growth_rates, and used to find the end heights of the 324 \n",
    "trees after 5 years of growing at the constant, randomly generated growth rate. These final heights were then put into an array (in inches) and labeled heights_inches_15.\n"
   ]
  },
  {
   "cell_type": "code",
   "execution_count": 5,
   "metadata": {},
   "outputs": [],
   "source": [
    "#calculation to find end height in inches after 5 years with the constant grow rates\n",
    "start_heights = np.array([11, 12, 5, 5, 5, 14, 15, 9, 8, 11, 5, 7, 15, 13, 6, 5, 14, 11, 6, 8, 13, 7, 10, 5, 7, 11, 15, 7, 11, 10, 13, 13, 14, 7, 14, 5, 9, 12, 5, 7, 10, 9, 14, 10, 14, 7, 8, 7, 13, 5, 6, 13, 11, 7, 10, 7, 15, 5, 7, 11, 8, 10, 6, 15, 7, 11, 5, 5, 8, 7, 9, 11, 7, 5, 8, 11, 11, 5, 13, 7, 10, 11, 14, 9, 14, 5, 15, 11, 7, 9, 10, 5, 7, 13, 9, 11, 9, 15, 11, 10, 6, 10, 12, 10, 8, 8, 14, 6, 9, 7, 8, 5, 15, 8, 8, 8, 8, 14, 7, 8, 6, 7, 12, 12, 6, 14, 6, 6, 5, 14, 11, 13, 15, 7, 13, 5, 15, 5, 15, 8, 15, 12, 15, 9, 5, 5, 6, 12, 5, 15, 8, 12, 12, 10, 6, 11, 7, 9, 12, 12, 7, 6, 9, 10, 14, 14, 9, 10, 9, 5, 11, 11, 10, 8, 15, 12, 8, 15, 12, 13, 6, 13, 12, 10, 5, 7, 14, 10, 5, 15, 13, 6, 14, 7, 8, 13, 11, 12, 14, 5, 14, 15, 11, 8, 6, 7, 12, 11, 5, 7, 8, 12, 14, 12, 7, 7, 9, 5, 15, 8, 10, 13, 13, 10, 15, 5, 13, 13, 11, 11, 5, 10, 5, 6, 7, 14, 15, 8, 13, 13, 14, 5, 11, 15, 10, 14, 8, 6, 14, 6, 6, 14, 11, 14, 15, 10, 12, 5, 6, 11, 5, 12, 15, 6, 14, 6, 9, 10, 7, 14, 10, 6, 15, 9, 15, 5, 8, 9, 5, 6, 14, 8, 6, 10, 13, 6, 7, 10, 10, 12, 8, 13, 10, 15, 15, 10, 15, 6, 11, 6, 15, 13, 8, 9, 6, 8, 9, 8, 5, 10, 8, 10, 11, 10, 13, 13, 14, 5, 5, 12, 12, 7, 11, 13])\n",
    "growth_rates = np.array([2, 2, 1, 2, 3, 3, 1, 2, 3, 1, 1, 3, 1, 3, 3, 2, 2, 2, 2, 3, 2, 3, 2, 3, 2, 3, 3, 2, 2, 2, 2, 3, 1, 1, 2, 1, 1, 2, 3, 3, 2, 3, 3, 2, 1, 1, 2, 1, 2, 2, 2, 2, 1, 2, 2, 1, 2, 1, 1, 1, 2, 1, 1, 1, 2, 2, 1, 2, 2, 2, 3, 2, 3, 1, 1, 2, 2, 3, 3, 2, 1, 1, 3, 3, 2, 1, 2, 1, 2, 2, 1, 3, 3, 2, 2, 1, 2, 1, 3, 1, 1, 1, 3, 3, 3, 2, 3, 3, 2, 3, 3, 1, 3, 3, 1, 3, 1, 3, 2, 3, 2, 1, 1, 1, 1, 1, 3, 2, 2, 3, 2, 3, 2, 3, 3, 1, 2, 1, 2, 3, 2, 3, 2, 2, 3, 3, 3, 2, 2, 2, 1, 2, 3, 1, 1, 3, 2, 3, 3, 2, 1, 2, 2, 1, 3, 1, 2, 3, 3, 3, 2, 3, 1, 1, 3, 1, 1, 3, 3, 1, 3, 2, 1, 1, 1, 3, 1, 3, 1, 1, 1, 3, 2, 1, 2, 1, 3, 3, 1, 2, 1, 1, 1, 3, 1, 2, 1, 2, 1, 3, 1, 3, 1, 2, 2, 2, 1, 2, 2, 3, 1, 1, 3, 2, 2, 1, 1, 1, 1, 3, 3, 3, 3, 2, 2, 1, 3, 3, 1, 2, 2, 2, 3, 3, 3, 3, 3, 1, 2, 1, 2, 1, 3, 3, 3, 3, 2, 2, 2, 1, 1, 1, 3, 3, 2, 3, 3, 3, 1, 1, 1, 3, 1, 1, 1, 3, 3, 1, 2, 2, 2, 1, 2, 1, 3, 2, 3, 2, 1, 1, 3, 3, 2, 2, 3, 1, 3, 3, 2, 3, 2, 3, 3, 2, 2, 3, 3, 2, 1, 3, 2, 3, 2, 3, 2, 2, 1, 1, 2, 2, 3, 1, 3, 1])\n",
    "time = 5\n",
    "heights_after_5years = (start_heights + growth_rates*5)*12\n",
    "heights_inches_15 = np.array(heights_after_5years)"
   ]
  },
  {
   "cell_type": "markdown",
   "metadata": {},
   "source": [
    "A white pine's diameter is on proportional to its height. The average ratio between its height and diameter is 45:1. Using this, the heights were divided by 45 to find the corresponding diameters and labeled diameters_inches_15."
   ]
  },
  {
   "cell_type": "code",
   "execution_count": 6,
   "metadata": {},
   "outputs": [],
   "source": [
    "diameters_inches_15 = heights_inches_15/45"
   ]
  },
  {
   "cell_type": "markdown",
   "metadata": {},
   "source": [
    "### Carbon Sequestration Data - 324 15 year-old White Pines"
   ]
  },
  {
   "cell_type": "markdown",
   "metadata": {},
   "source": [
    "Now, the weight of carbon dioxide, in tons, in each tree can be found using the equation mentioned above, then divided by 2000 (1 ton = 2000 lbs). The sum of the array, weight_of_co2_15, yields the total weight of carbon dioxide sequestered in the forest once the trees are 15 years old. This total can then be divided by 15 to get the tons of carbon dioxide per year. "
   ]
  },
  {
   "cell_type": "code",
   "execution_count": 7,
   "metadata": {},
   "outputs": [
    {
     "name": "stdout",
     "output_type": "stream",
     "text": [
      "The total amount of carbon dioxide sequestered in the plot of 15 year old white pines is 43.30 tons.\n",
      "This is equivalent to the forest sequestering 2.89 tons/year over the first 15 years.\n"
     ]
    }
   ],
   "source": [
    "#Weight of co2 in tons in the trees at 15 years old and total weight of co2 in the forest in tons\n",
    "weight_of_co2_15 = (.3987*(diameters_inches_15**2)*(heights_inches_15/12))/2000\n",
    "total_sequestered_15= sum(weight_of_co2_15)\n",
    "print('The total amount of carbon dioxide sequestered in the plot of 15 year old white pines is {:.2f} tons.'.format(total_sequestered_15))\n",
    "print('This is equivalent to the forest sequestering {:.2f} tons/year over the first 15 years.'.format(total_sequestered_15/15))"
   ]
  },
  {
   "cell_type": "markdown",
   "metadata": {},
   "source": [
    "The histogram below shoes the distribution of amounts of carbon dioxide sequestered in the white pines over the first 15 years of the trees' lives. These values may have varied a small amount if different randomly generated heights/growth rates were used, but since the population is larger (324) this is a good representitive of what a possible forest of white pines could look like. Nearly all of the trees were on the lower side of the distribution, which resulted in a mean of around 0.135 tons of carbon per tree. \n"
   ]
  },
  {
   "cell_type": "code",
   "execution_count": 8,
   "metadata": {
    "scrolled": false
   },
   "outputs": [
    {
     "data": {
      "image/png": "[encoded data removed]",
      "text/plain": [
       "<Figure size 432x288 with 1 Axes>"
      ]
     },
     "metadata": {},
     "output_type": "display_data"
    },
    {
     "data": {
      "text/plain": [
       "<Figure size 1440x1440 with 0 Axes>"
      ]
     },
     "metadata": {},
     "output_type": "display_data"
    }
   ],
   "source": [
    "plt.style.use('seaborn-darkgrid')\n",
    "plt.hist(weight_of_co2_15, rwidth=.9)\n",
    "plt.axvline(x=np.mean(weight_of_co2_15),color='red', label='Mean')\n",
    "plt.legend()\n",
    "plt.ylim(0,70)\n",
    "plt.title('Amounts of Carbon Dioxide Sequestered in White Pines in Tons')\n",
    "plt.xlabel('Tons of Carbon Dioxide in Tree')\n",
    "plt.ylabel('Number of Trees')\n",
    "plt.figure(figsize=(20,20))\n",
    "plt.show()"
   ]
  },
  {
   "cell_type": "markdown",
   "metadata": {},
   "source": [
    "### Cost Analysis\n",
    "\n",
    "The cost of white pine tree seeds is \\\\$90 per 1000 seeds. So, to plant 324, it would cost about \\\\$13.00. Planting the seeds/up keep of the young trees is \\\\$35/acre or \\\\$8,645/$km^{2}$ **[8]**. Using these values, the cost per ton of carbon dioxide overall and on an individual tree level. "
   ]
  },
  {
   "cell_type": "code",
   "execution_count": 9,
   "metadata": {},
   "outputs": [
    {
     "name": "stdout",
     "output_type": "stream",
     "text": [
      "The cost per ton of carbon dioxide sequestered by the 15 year old forest is $199.96/ton\n"
     ]
    }
   ],
   "source": [
    "trees_total_cost = 8658\n",
    "cost_per_tree = 8658/324\n",
    "cost_per_ton_15=(trees_total_cost/total_sequestered_15)\n",
    "print('The cost per ton of carbon dioxide sequestered by the 15 year old forest is ${:.2f}/ton'.format(cost_per_ton_15))"
   ]
  },
  {
   "cell_type": "markdown",
   "metadata": {},
   "source": [
    "The cost per ton of carbon dioxide varies among the trees due to the variation in amount of carbon dioxide sequestered in each tree. One of the factors that affects the amount of carbon dioxide sequestered is the height of the trees. So, the relationship between the height and cost per ton of carbon dioxide of the trees was examined with the plot below."
   ]
  },
  {
   "cell_type": "code",
   "execution_count": 10,
   "metadata": {},
   "outputs": [
    {
     "data": {
      "image/png": "[encoded data removed]",
      "text/plain": [
       "<Figure size 432x288 with 1 Axes>"
      ]
     },
     "metadata": {},
     "output_type": "display_data"
    },
    {
     "data": {
      "text/plain": [
       "<Figure size 1440x1440 with 0 Axes>"
      ]
     },
     "metadata": {},
     "output_type": "display_data"
    }
   ],
   "source": [
    "#The relationship between the height of the tree and the cost of that tree per ton of CO2 after 15 yrs \n",
    "plt.plot((heights_inches_15/12),(cost_per_tree/weight_of_co2_15),'.')\n",
    "plt.title('Height of Tree vs Cost per ton of Carbon Dioxide')\n",
    "plt.xlabel('Height (ft)')\n",
    "plt.ylabel('Cost ($/ton)')\n",
    "plt.figure(figsize=(20,20))\n",
    "plt.show()"
   ]
  },
  {
   "cell_type": "markdown",
   "metadata": {},
   "source": [
    "It is clear that as height increases, the cost decreases. The cost per ton in this situation is nearly **8 times** more expensive than the Weyburn-Midale project. Since cost decreases with height, the cost efficiency of the forest was analyzed at 50 years. "
   ]
  },
  {
   "cell_type": "markdown",
   "metadata": {},
   "source": [
    "### 50 year-old White Pine Forest Analysis\n",
    "\n",
    "Using the data that at 50 years a White Pine has a height of 55-115 feet, the same methods for the 15 year old forest were implemented for the older forest. 324 heights were randomly generated with the code below and the diameters were calculated. "
   ]
  },
  {
   "cell_type": "code",
   "execution_count": 11,
   "metadata": {},
   "outputs": [],
   "source": [
    "#Generating heights of 50 year old trees\n",
    "def Rand(start, end, num): \n",
    "    res = [] \n",
    "  \n",
    "    for j in range(num): \n",
    "        res.append(random.randint(start, end)) \n",
    "  \n",
    "    return res \n",
    "num = 324\n",
    "start = 55\n",
    "end = 115\n",
    "height_feet_50 = Rand(start, end, num)"
   ]
  },
  {
   "cell_type": "code",
   "execution_count": 12,
   "metadata": {},
   "outputs": [],
   "source": [
    "height_feet_50 = np.array([99, 69, 109, 69, 115, 98, 111, 103, 59, 64, 105, 112, 55, 93, 65, 100, 99, 105, 96, 92, 67, 107, 69, 79, 70, 95, 114, 59, 98, 105, 77, 61, 73, 106, 58, 96, 92, 87, 59, 96, 92, 113, 92, 64, 97, 107, 77, 97, 76, 91, 97, 56, 97, 79, 105, 87, 69, 74, 58, 67, 81, 71, 85, 57, 111, 89, 80, 65, 70, 97, 75, 112, 111, 98, 88, 94, 91, 59, 75, 80, 89, 93, 102, 56, 63, 96, 73, 75, 78, 107, 75, 56, 80, 90, 91, 56, 76, 108, 77, 91, 55, 109, 57, 99, 92, 106, 70, 73, 71, 93, 58, 79, 90, 65, 95, 102, 109, 55, 61, 71, 76, 90, 111, 104, 56, 57, 71, 108, 65, 82, 61, 59, 69, 58, 72, 90, 60, 92, 83, 82, 93, 82, 95, 115, 100, 111, 97, 106, 94, 60, 87, 98, 73, 75, 62, 106, 96, 90, 65, 109, 60, 70, 68, 98, 65, 61, 81, 108, 97, 87, 72, 77, 75, 112, 95, 82, 60, 111, 86, 115, 108, 110, 106, 107, 78, 101, 78, 95, 81, 103, 100, 61, 96, 101, 85, 88, 65, 65, 58, 104, 89, 64, 66, 114, 76, 65, 112, 86, 55, 115, 110, 95, 98, 83, 82, 66, 76, 114, 100, 67, 102, 56, 80, 68, 106, 66, 106, 80, 101, 99, 106, 96, 101, 100, 107, 98, 82, 66, 56, 114, 93, 109, 84, 66, 83, 97, 61, 106, 102, 85, 71, 65, 98, 67, 75, 105, 60, 59, 66, 75, 72, 72, 73, 111, 108, 86, 89, 95, 108, 100, 113, 101, 111, 104, 62, 109, 100, 109, 86, 68, 57, 113, 97, 107, 79, 75, 105, 82, 92, 104, 92, 81, 73, 113, 98, 73, 56, 95, 67, 97, 101, 75, 73, 64, 108, 82, 74, 78, 113, 90, 92, 55, 73, 61, 63, 68, 85, 102, 70, 112, 70, 94, 92, 69])"
   ]
  },
  {
   "cell_type": "code",
   "execution_count": 13,
   "metadata": {},
   "outputs": [],
   "source": [
    "diameters_inches_50 = (height_feet_50*12)/45"
   ]
  },
  {
   "cell_type": "code",
   "execution_count": 14,
   "metadata": {},
   "outputs": [
    {
     "name": "stdout",
     "output_type": "stream",
     "text": [
      "The total amount of carbon dioxide sequestered in the plot of 50 year old white pines is 1935.22 tons.\n",
      "This is equivalent to the forest sequestering 38.70 tons/year over 50 years.\n"
     ]
    }
   ],
   "source": [
    "#Weight of co2 in the forest and each tree (in tons) after 50 years if growing\n",
    "weight_of_co2_50 = (.2385*(diameters_inches_50**2)*(height_feet_50))/2000\n",
    "total_sequestered_50 = sum(weight_of_co2_50)\n",
    "print('The total amount of carbon dioxide sequestered in the plot of 50 year old white pines is {:.2f} tons.'.format(total_sequestered_50))\n",
    "print('This is equivalent to the forest sequestering {:.2f} tons/year over 50 years.'.format(total_sequestered_50/50))"
   ]
  },
  {
   "cell_type": "markdown",
   "metadata": {},
   "source": [
    "The histogram below shows the distribution of carbon sequestered after 50 years. This graph also shows that the majority of trees tend to sequester lower amounts, meaning the majority of the trees are on the lower side of the height range. This is realistic, as most white pines do not reach 115 feet by age 50. The mean for the 50 year old trees was about 6 tons/tree, which is about 44 times more than the 15 year old trees' mean. "
   ]
  },
  {
   "cell_type": "code",
   "execution_count": 15,
   "metadata": {},
   "outputs": [
    {
     "data": {
      "image/png": "[encoded data removed]",
      "text/plain": [
       "<Figure size 432x288 with 1 Axes>"
      ]
     },
     "metadata": {},
     "output_type": "display_data"
    },
    {
     "data": {
      "text/plain": [
       "<Figure size 1440x1440 with 0 Axes>"
      ]
     },
     "metadata": {},
     "output_type": "display_data"
    }
   ],
   "source": [
    "plt.style.use('seaborn-darkgrid')\n",
    "plt.hist(weight_of_co2_50, rwidth=.9)\n",
    "plt.axvline(x=np.mean(weight_of_co2_50),color='red', label='Mean')\n",
    "plt.legend()\n",
    "plt.ylim(0,70)\n",
    "plt.title('Amounts of Carbon Dioxide Sequestered in White Pines in Tons')\n",
    "plt.xlabel('Tons of Carbon Dioxide in Tree')\n",
    "plt.ylabel('Number of Trees')\n",
    "plt.figure(figsize=(20,20))\n",
    "plt.show()"
   ]
  },
  {
   "cell_type": "markdown",
   "metadata": {},
   "source": [
    "The costs were calculated the same way the 15 year old forest's costs were calculated, as the planting/seed fees are fixed costs. "
   ]
  },
  {
   "cell_type": "code",
   "execution_count": 16,
   "metadata": {},
   "outputs": [
    {
     "name": "stdout",
     "output_type": "stream",
     "text": [
      "The cost per ton of carbon dioxide sequestered by the 15 year old forest is $4.47/ton.\n"
     ]
    }
   ],
   "source": [
    "cost = 8658\n",
    "cost_per_tree = 8658/324\n",
    "cost_per_ton_50=(cost/total_sequestered_50)\n",
    "print('The cost per ton of carbon dioxide sequestered by the 15 year old forest is ${:.2f}/ton.'.format(cost_per_ton_50))"
   ]
  },
  {
   "cell_type": "markdown",
   "metadata": {},
   "source": [
    "The relationship between the height and cost per ton of the trees was plotted again to again show that the cost per ton of carbon dioxide is related to the height of the tree. "
   ]
  },
  {
   "cell_type": "code",
   "execution_count": 17,
   "metadata": {},
   "outputs": [
    {
     "data": {
      "image/png": "[encoded data removed]",
      "text/plain": [
       "<Figure size 432x288 with 1 Axes>"
      ]
     },
     "metadata": {},
     "output_type": "display_data"
    }
   ],
   "source": [
    "#The relationship between the height of the tree and the cost of that tree per ton of CO2 after 50 yrs\n",
    "plt.plot((height_feet_50),(cost_per_tree/weight_of_co2_50),'.')\n",
    "plt.title('Height of Tree vs Cost per ton of Carbon Dioxide')\n",
    "plt.xlabel('Height (ft)')\n",
    "plt.ylabel('Cost ($/ton)')\n",
    "plt.show()"
   ]
  },
  {
   "cell_type": "markdown",
   "metadata": {},
   "source": [
    "The cost and carbon sequestered decreased and increased by a factor of 44 after 35 years of growing, respectively. The cost per ton after 50 years is also significantly less than the cost per ton for the Weyburn-Midale project which was \\\\$27.50/ton. However, there are many external factors that should be taken into consideration when comparing these two methods. "
   ]
  },
  {
   "cell_type": "markdown",
   "metadata": {},
   "source": [
    "## Conclusion\n",
    "\n",
    "Within the first 15 years, a forest of 324 white pine trees will sequester 43.30 tons of carbon dioxide for \\\\$199,96/ton. Within 50 years, a forest of 324 white pines will sequester 1935.22 tons of carbon dioxide for \\\\$4.47/ton. Planting trees, like white pines, pays off in the long run. However, the benefits of a forest could take up to 50 years to truly have an effect on the environment and be cost effective. Additionally, land to plant trees is sparse, as industry continues to expand into unused land. A benefit of planting trees is that there is no negative byproduct. Actually, the byproduct of planting trees is positive. The trees not only take carbon dioxide out of the air, but they also feed oxygen into the air.\n",
    "\n",
    "The Weyburn-Midale project sequesters 2 million tons of carbon dioxide a year for \\\\$27.50/ton. In terms off efficiency, the Weyburn project is far more efficient than planting trees. The amount of carbon dioxide stored in trees cannot compare to the oil fields' storage capacities. However, there are other factors that need to be taken into account when looking at this project. The injecting of the carbon doixide into the wells is to increase oil production and the lifespan of the wells. This results in more oil extraction and burning, which results in more carbon dioxide. But, the project could lead to more widespread use of this technology, which would drive the price down and store more carbon dioxide.\n",
    "\n",
    "Planting white pines is more cost efficient in the long run than the Weyburn-Midale project. But, if the comparison was to only look at the first 15 years of each project (synchronously), the Weyburn project would be more cost efficient. "
   ]
  },
  {
   "cell_type": "markdown",
   "metadata": {},
   "source": [
    "## References\n",
    "\n",
    "**[1]**. Overview of Greenhouse Gases. (2020, April 10). Retrieved May 1, 2020, from https://www.epa.gov/ghgemissions/overview-greenhouse-gases"
   ]
  },
  {
   "cell_type": "markdown",
   "metadata": {},
   "source": [
    "**[2]**. Weyburn-Midale CO2 Project. (n.d.). Retrieved May 1, 2020, from http://www.zeroco2.no/projects/weyburn-midale-co2-project"
   ]
  },
  {
   "cell_type": "markdown",
   "metadata": {},
   "source": [
    "**[3]**. How to calculate the amount of CO2 sequestered in a tree. (n.d.). Retrieved May 1, 2020, from http://www.unm.edu/~jbrink/365/Documents/Calculating_tree_carbon.pdf"
   ]
  },
  {
   "cell_type": "markdown",
   "metadata": {},
   "source": [
    "**[4]**. Weyburn–Midale CO2 Project. (n.d.). Retrieved May 1, 2020, from https://undeerc.org/pcor/CO2SequestrationProjects/Weyburn.aspx"
   ]
  },
  {
   "cell_type": "markdown",
   "metadata": {},
   "source": [
    "**[5]**. Pinus strobus. (2020, April 24). Retrieved May 1, 2020, from https://en.wikipedia.org/wiki/Pinus_strobus#Dimensions"
   ]
  },
  {
   "cell_type": "markdown",
   "metadata": {},
   "source": [
    "**[6]**. Wendel, G. W., & Smith, H. C. (n.d.). Eastern White Pine. Retrieved May 1, 2020, from https://www.srs.fs.usda.gov/pubs/misc/ag_654/volume_1/pinus/strobus.htm"
   ]
  },
  {
   "cell_type": "markdown",
   "metadata": {},
   "source": [
    "**[7]**. LenkaCheck, C., & Lenka, C. (2018, November 21). Python: Generate random numbers within a given range and store in a list. Retrieved May 1, 2020, from https://www.geeksforgeeks.org/python-generate-random-numbers-within-a-given-range-and-store-in-a-list/"
   ]
  },
  {
   "cell_type": "markdown",
   "metadata": {},
   "source": [
    "**[8]**. Clatterbuck, W. K., & Ganus, L. (n.d.). PDF."
   ]
  }
 ],
 "metadata": {
  "kernelspec": {
   "display_name": "Python 3",
   "language": "python",
   "name": "python3"
  },
  "language_info": {
   "codemirror_mode": {
    "name": "ipython",
    "version": 3
   },
   "file_extension": ".py",
   "mimetype": "text/x-python",
   "name": "python",
   "nbconvert_exporter": "python",
   "pygments_lexer": "ipython3",
   "version": "3.7.1"
  }
 },
 "nbformat": 4,
 "nbformat_minor": 2
}
